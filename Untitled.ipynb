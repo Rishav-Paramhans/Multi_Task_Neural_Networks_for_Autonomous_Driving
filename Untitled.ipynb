{
 "cells": [
  {
   "cell_type": "code",
   "execution_count": 1,
   "id": "aa34e265-6a6d-43d7-bbe0-decc018da047",
   "metadata": {},
   "outputs": [],
   "source": [
    "import os\n",
    "import cv2\n",
    "import matplotlib.pyplot as plt"
   ]
  },
  {
   "cell_type": "code",
   "execution_count": 7,
   "id": "d8db47a6-f25f-4464-8026-fb56307fe9f6",
   "metadata": {},
   "outputs": [],
   "source": [
    "import tqdm"
   ]
  },
  {
   "cell_type": "code",
   "execution_count": null,
   "id": "4bc610f5-0504-48ab-bfb3-ed639f4fd7f1",
   "metadata": {},
   "outputs": [],
   "source": [
    "img_path= os.path.join(file_dir, \"A2D2_dataset/images/20180807145028_camera_frontcenter_000000380.png\")\n",
    "image= cv2.imread(img_path)\n",
    "image= cv2.cvtColor(image, cv2.COLOR_BGR2RGB)\n",
    "plt.imshow(image)"
   ]
  }
 ],
 "metadata": {
  "kernelspec": {
   "display_name": "Python 3",
   "language": "python",
   "name": "python3"
  },
  "language_info": {
   "codemirror_mode": {
    "name": "ipython",
    "version": 3
   },
   "file_extension": ".py",
   "mimetype": "text/x-python",
   "name": "python",
   "nbconvert_exporter": "python",
   "pygments_lexer": "ipython3",
   "version": "3.8.10"
  }
 },
 "nbformat": 4,
 "nbformat_minor": 5
}
